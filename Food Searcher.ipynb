{
 "cells": [
  {
   "cell_type": "code",
   "execution_count": 1,
   "metadata": {},
   "outputs": [
    {
     "data": {
      "text/plain": [
       "{'error': {'code': 'VALIDATION_ERROR',\n",
       "  'description': 'Authorization is a required parameter.',\n",
       "  'field': 'Authorization',\n",
       "  'instance': None}}"
      ]
     },
     "execution_count": 1,
     "metadata": {},
     "output_type": "execute_result"
    }
   ],
   "source": [
    "import requests\n",
    "import json\n",
    "#url=\"https://maps.googleapis.com/maps/api/staticmap?center=Brooklyn+Bridge,New+York,NY&zoom=13&size=600x300&maptype=roadmap&markers=color:blue%7Clabel:S%7C40.702147,-74.015794&markers=color:green%7Clabel:G%7C40.711614,-74.012318&markers=color:red%7Clabel:C%7C40.718217,-73.998284&\"\n",
    "#resp=requests.get(url)\n",
    "#resp.text\n",
    "key=\"gxy7IYotnmfdd1SrvXfy1hfG5z4HfU0pGbbVPclKWAy07uqNviLGHrnzp0J_Nt1hJ_vQd4AnIX3LQzh1SV9vybXQpR_MpvhhZTIUrx8b6K0Qp4yfU0wrPDQE_wDXXXYx\"\n",
    "#def yelp(food):\n",
    "user_id=\"lUrLPc8-KXBjLODVZRvkRQ\"\n",
    "url='https://api.yelp.com/v3/autocomplete?text=del&latitude=37.786882&longitude=-122.399972'\n",
    "#print(url)\n",
    "data={'Authorization': 'lUrLPc8-KXBjLODVZRvkRQ'}\n",
    "response = requests.get(url,params=\"data\")\n",
    "#return(response.json())\n",
    "#user_text=input(\"\")\n",
    "#food = { 'term' : user_text,'latitude': 43.03821555,'longitude': -76.1333456417294,'radius': 40000}\n",
    "#yelp(food)\n",
    "response.json()"
   ]
  },
  {
   "cell_type": "code",
   "execution_count": 12,
   "metadata": {},
   "outputs": [],
   "source": [
    "from urllib.parse import quote\n",
    "import json\n",
    "import pandas as pd\n",
    "import requests\n",
    "import folium\n",
    "\n",
    "API_KEY= 'gxy7IYotnmfdd1SrvXfy1hfG5z4HfU0pGbbVPclKWAy07uqNviLGHrnzp0J_Nt1hJ_vQd4AnIX3LQzh1SV9vybXQpR_MpvhhZTIUrx8b6K0Qp4yfU0wrPDQE_wDXXXYx'\n",
    "API_HOST = 'https://api.yelp.com'\n",
    "SEARCH_PATH = '/v3/businesses/search'\n",
    "BUSINESS_PATH = '/v3/businesses/'  \n",
    "SEARCH_LIMIT = 10\n",
    "\n",
    "def request(host, path, api_key, url_params=None):\n",
    "    url_params = url_params or {}\n",
    "    url = '{0}{1}'.format(host, quote(path.encode('utf8')))\n",
    "    headers = {'Authorization': 'Bearer %s' % api_key,}\n",
    "    response = requests.request('GET', url, headers=headers, params=url_params)\n",
    "\n",
    "    return response.json()\n",
    "\n",
    "\n",
    "def search(api_key, term, location):\n",
    "\n",
    "    url_params = {\n",
    "        'term': term.replace(' ', '+'),\n",
    "        'location': location.replace(' ', '+'),\n",
    "        'limit': SEARCH_LIMIT\n",
    "    }\n",
    "    return request(API_HOST, SEARCH_PATH, api_key, url_params=url_params)\n",
    "\n",
    "def get_coordinates(search):\n",
    "    url = 'https://nominatim.openstreetmap.org/search' \n",
    "    options = { 'q' : search, 'format' : 'json'}\n",
    "    response = requests.get(url, params = options)            \n",
    "    geodata = response.json()\n",
    "    coords = { 'lat' : float(geodata[0]['lat']), 'lng' : float(geodata[0]['lon']) }\n",
    "    return coords['lat'],coords['lng']\n"
   ]
  },
  {
   "cell_type": "code",
   "execution_count": 13,
   "metadata": {
    "scrolled": true
   },
   "outputs": [
    {
     "name": "stdout",
     "output_type": "stream",
     "text": [
      "Enter the type of the restaurant(Asian,French,Japanese...etc.): hi\n",
      "Enter a location: syracuse\n"
     ]
    }
   ],
   "source": [
    "#businesses:{name:xx,location:{address1:xx,address2:xx},rating:xx,city:xx,}\n",
    "get_type=input(\"Enter the type of the restaurant(Asian,French,Japanese...etc.): \")\n",
    "get_location=input(\"Enter a location: \")\n",
    "restaurants=search(API_KEY,get_type,get_location)\n",
    "\n",
    "name=[]\n",
    "address=[]\n",
    "rating=[]\n",
    "location=[]\n",
    "\n",
    "for num in restaurants['businesses']:\n",
    "    name.append(num['name'])\n",
    "    address.append(num['location']['address1'])\n",
    "    rating.append(num['rating'])\n",
    "    location.append((num['coordinates']['latitude'],num['coordinates']['longitude']))\n",
    "series_dict = { 'Name':  name,'Address': address,'Rating on Yelp': rating}  \n",
    "show_table=pd.DataFrame(series_dict)\n",
    "display(show_table)\n",
    "restaurants\n",
    "\n"
   ]
  },
  {
   "cell_type": "code",
   "execution_count": null,
   "metadata": {},
   "outputs": [],
   "source": []
  },
  {
   "cell_type": "code",
   "execution_count": 9,
   "metadata": {
    "scrolled": true
   },
   "outputs": [
    {
     "data": {
      "text/html": [
       "<div style=\"width:100%;\"><div style=\"position:relative;width:100%;height:0;padding-bottom:60%;\"><iframe src=\"data:text/html;charset=utf-8;base64,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\" style=\"position:absolute;width:100%;height:100%;left:0;top:0;border:none !important;\" allowfullscreen webkitallowfullscreen mozallowfullscreen></iframe></div></div>"
      ],
      "text/plain": [
       "<folium.folium.Map at 0x7f5b93aabba8>"
      ]
     },
     "execution_count": 9,
     "metadata": {},
     "output_type": "execute_result"
    }
   ],
   "source": [
    "def get_coordinates(search):\n",
    "    url = 'https://nominatim.openstreetmap.org/search' \n",
    "    options = { 'q' : search, 'format' : 'json'}\n",
    "    response = requests.get(url, params = options)            \n",
    "    geodata = response.json()\n",
    "    coords = { 'lat' : float(geodata[0]['lat']), 'lng' : float(geodata[0]['lon']) }\n",
    "    return coords['lat'],coords['lng']\n",
    "\n",
    "coords = get_coordinates(get_location)\n",
    "show_map = folium.Map(location=coords, zoom_start=13)\n",
    "d={'a':name,'b':rating,'c':address,'d':location}\n",
    "for a in range(SEARCH_LIMIT):\n",
    "    loc=(d['d'][a])\n",
    "    message=f\"Restaurant name:{d['a'][a]} Rating:{d['b'][a]} Address:{d['c'][a]}\"\n",
    "    marker = folium.Marker(location=loc,popup=message)\n",
    "    show_map.add_child(marker)\n",
    "    \n",
    "    \n",
    "show_map\n",
    "    "
   ]
  },
  {
   "cell_type": "code",
   "execution_count": null,
   "metadata": {},
   "outputs": [],
   "source": []
  }
 ],
 "metadata": {
  "kernelspec": {
   "display_name": "Python 3",
   "language": "python",
   "name": "python3"
  },
  "language_info": {
   "codemirror_mode": {
    "name": "ipython",
    "version": 3
   },
   "file_extension": ".py",
   "mimetype": "text/x-python",
   "name": "python",
   "nbconvert_exporter": "python",
   "pygments_lexer": "ipython3",
   "version": "3.7.3"
  }
 },
 "nbformat": 4,
 "nbformat_minor": 2
}
