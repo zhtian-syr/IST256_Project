{
 "cells": [
  {
   "cell_type": "code",
   "execution_count": 9,
   "metadata": {},
   "outputs": [],
   "source": [
    "from math import sin, cos, sqrt, atan2, radians\n",
    "from urllib.parse import quote\n",
    "import json\n",
    "import pandas as pd\n",
    "import requests\n",
    "import folium\n",
    "\n",
    "API_KEY= 'gxy7IYotnmfdd1SrvXfy1hfG5z4HfU0pGbbVPclKWAy07uqNviLGHrnzp0J_Nt1hJ_vQd4AnIX3LQzh1SV9vybXQpR_MpvhhZTIUrx8b6K0Qp4yfU0wrPDQE_wDXXXYx'\n",
    "API_HOST = 'https://api.yelp.com'\n",
    "SEARCH_PATH = '/v3/businesses/search'\n",
    "BUSINESS_PATH = '/v3/businesses/'  \n",
    "\n",
    "def request(host, path, api_key, url_params=None):\n",
    "    url_params = url_params or {}\n",
    "    url = '{0}{1}'.format(host, quote(path.encode('utf8')))\n",
    "    headers = {'Authorization': 'Bearer %s' % api_key,}\n",
    "    response = requests.request('GET', url, headers=headers, params=url_params)\n",
    "\n",
    "    return response.json()\n",
    "\n",
    "\n",
    "def search(api_key, term, location):\n",
    "\n",
    "    url_params = {\n",
    "        'term': term.replace(' ', '+'),\n",
    "        'location': location.replace(' ', '+'),\n",
    "        'limit': SEARCH_LIMIT\n",
    "    }\n",
    "    return request(API_HOST, SEARCH_PATH, api_key, url_params=url_params)\n",
    "\n",
    "def get_coordinates(search):\n",
    "    url = 'https://nominatim.openstreetmap.org/search' \n",
    "    options = { 'q' : search, 'format' : 'json'}\n",
    "    response = requests.get(url, params = options)            \n",
    "    geodata = response.json()\n",
    "    coords = { 'lat' : float(geodata[0]['lat']), 'lng' : float(geodata[0]['lon']) }\n",
    "    return coords['lat'],coords['lng']"
   ]
  },
  {
   "cell_type": "code",
   "execution_count": 17,
   "metadata": {
    "scrolled": false
   },
   "outputs": [
    {
     "name": "stdout",
     "output_type": "stream",
     "text": [
      "Enter the type of the restaurant(Asian,French,Japanese...etc.): chinese\n",
      "Enter a location: syracuse\n",
      "Enter the amount of restaurants you want to show on the map: 5\n",
      "Do you want to show the table? (Y/N)Y\n",
      "Enter your location: new york\n"
     ]
    },
    {
     "data": {
      "text/html": [
       "<div>\n",
       "<style scoped>\n",
       "    .dataframe tbody tr th:only-of-type {\n",
       "        vertical-align: middle;\n",
       "    }\n",
       "\n",
       "    .dataframe tbody tr th {\n",
       "        vertical-align: top;\n",
       "    }\n",
       "\n",
       "    .dataframe thead th {\n",
       "        text-align: right;\n",
       "    }\n",
       "</style>\n",
       "<table border=\"1\" class=\"dataframe\">\n",
       "  <thead>\n",
       "    <tr style=\"text-align: right;\">\n",
       "      <th></th>\n",
       "      <th>Name</th>\n",
       "      <th>Address</th>\n",
       "      <th>Rating on Yelp</th>\n",
       "    </tr>\n",
       "  </thead>\n",
       "  <tbody>\n",
       "    <tr>\n",
       "      <td>0</td>\n",
       "      <td>Bamboo House Asian Restaurant</td>\n",
       "      <td>252 W Genesee St</td>\n",
       "      <td>4.5</td>\n",
       "    </tr>\n",
       "    <tr>\n",
       "      <td>1</td>\n",
       "      <td>Tang Flavor</td>\n",
       "      <td>413 S Warren St</td>\n",
       "      <td>4.0</td>\n",
       "    </tr>\n",
       "    <tr>\n",
       "      <td>2</td>\n",
       "      <td>Red Chili</td>\n",
       "      <td>2740 Erie Blvd E</td>\n",
       "      <td>4.0</td>\n",
       "    </tr>\n",
       "    <tr>\n",
       "      <td>3</td>\n",
       "      <td>Yang Di Chun BBQ</td>\n",
       "      <td>2042 Erie Blvd E</td>\n",
       "      <td>4.0</td>\n",
       "    </tr>\n",
       "    <tr>\n",
       "      <td>4</td>\n",
       "      <td>Old Chengdu Cafe</td>\n",
       "      <td>1113 E Fayette St</td>\n",
       "      <td>5.0</td>\n",
       "    </tr>\n",
       "  </tbody>\n",
       "</table>\n",
       "</div>"
      ],
      "text/plain": [
       "                            Name            Address  Rating on Yelp\n",
       "0  Bamboo House Asian Restaurant   252 W Genesee St             4.5\n",
       "1                    Tang Flavor    413 S Warren St             4.0\n",
       "2                      Red Chili   2740 Erie Blvd E             4.0\n",
       "3               Yang Di Chun BBQ   2042 Erie Blvd E             4.0\n",
       "4               Old Chengdu Cafe  1113 E Fayette St             5.0"
      ]
     },
     "metadata": {},
     "output_type": "display_data"
    },
    {
     "data": {
      "text/html": [
       "<div style=\"width:100%;\"><div style=\"position:relative;width:100%;height:0;padding-bottom:60%;\"><iframe src=\"data:text/html;charset=utf-8;base64,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\" style=\"position:absolute;width:100%;height:100%;left:0;top:0;border:none !important;\" allowfullscreen webkitallowfullscreen mozallowfullscreen></iframe></div></div>"
      ],
      "text/plain": [
       "<folium.folium.Map at 0x7fc41bc1a198>"
      ]
     },
     "metadata": {},
     "output_type": "display_data"
    },
    {
     "name": "stdout",
     "output_type": "stream",
     "text": [
      "Do you want to find another restaurant? Press \"quit\" to stop the program. quit\n"
     ]
    }
   ],
   "source": [
    "#businesses:{name:xx,location:{address1:xx,address2:xx},rating:xx,city:xx,}\n",
    "while True:\n",
    "    name=[]\n",
    "    address=[]\n",
    "    rating=[]\n",
    "    location=[]\n",
    "    \n",
    "    get_type=input(\"Enter the type of the restaurant(Asian,French,Japanese...etc.): \")\n",
    "    get_location=input(\"Enter a location: \")\n",
    "    SEARCH_LIMIT = input(\"Enter the amount of restaurants you want to show on the map: \")\n",
    "    restaurants=search(API_KEY,get_type,get_location)\n",
    "    show_table = input(\"Do you want to show the table? (Y/N)\")\n",
    "    get_distance=input(\"Enter your location: \")\n",
    "    user_location=get_coordinates(get_distance)\n",
    "    \n",
    "    try:\n",
    "        for num in restaurants['businesses']:\n",
    "            name.append(num['name'])\n",
    "            address.append(num['location']['address1'])\n",
    "            rating.append(num['rating'])\n",
    "            location.append((num['coordinates']['latitude'],num['coordinates']['longitude']))\n",
    "    except KeyError:\n",
    "        print(\"Please enter something\")\n",
    "        break\n",
    "        \n",
    "    series_dict = { 'Name':  name,'Address': address,'Rating on Yelp': rating}  \n",
    "    table=pd.DataFrame(series_dict)\n",
    "\n",
    "    if show_table=='Y':\n",
    "        display(table)\n",
    "\n",
    "    coords = get_coordinates(get_location)\n",
    "    show_map = folium.Map(location=coords, zoom_start=13)\n",
    "    dictionary={'name':name,'rating':rating,'address':address,'location':location}\n",
    "    for item in range(int(SEARCH_LIMIT)):\n",
    "        loc=(dictionary['location'][item])\n",
    "        message=f\"Restaurant name:{dictionary['name'][item]} Rating:{dictionary['rating'][item]} Address:{dictionary['address'][item]}\"\n",
    "        marker = folium.Marker(location=loc,popup=message)\n",
    "        show_map.add_child(marker)\n",
    "    display(show_map)\n",
    "    \n",
    "    test_continue=input('Do you want to find another restaurant? Press \"quit\" to stop the program. ')\n",
    "    if test_continue == 'quit':\n",
    "        break\n",
    "        "
   ]
  },
  {
   "cell_type": "code",
   "execution_count": 24,
   "metadata": {},
   "outputs": [
    {
     "name": "stdout",
     "output_type": "stream",
     "text": [
      "315.19 km\n",
      "314.51 km\n",
      "312.70 km\n",
      "313.20 km\n",
      "313.90 km\n"
     ]
    }
   ],
   "source": [
    "\n",
    "\n",
    "R = 6373.0\n",
    "lon1=radians(abs(user_location[1]))\n",
    "lat1=radians(abs(user_location[0]))\n",
    "\n",
    "for l in location:\n",
    "    lon2=radians(abs(l[1]))\n",
    "    lat2=radians(abs(l[0]))\n",
    "\n",
    "\n",
    "    dlon = lon2 - lon1\n",
    "    dlat = lat2 - lat1\n",
    "\n",
    "    a = sin(dlat / 2)**2 + cos(lat1) * cos(lat2) * sin(dlon / 2)**2\n",
    "    c = 2 * atan2(sqrt(a), sqrt(1 - a))\n",
    "\n",
    "    distance = R * c\n",
    "\n",
    "    print('%.2f km'%distance)\n",
    "\n",
    "\n",
    "    \n",
    "    \n",
    "        "
   ]
  },
  {
   "cell_type": "code",
   "execution_count": null,
   "metadata": {},
   "outputs": [],
   "source": [
    "location"
   ]
  },
  {
   "cell_type": "code",
   "execution_count": null,
   "metadata": {
    "collapsed": true
   },
   "outputs": [],
   "source": []
  }
 ],
 "metadata": {
  "kernelspec": {
   "display_name": "Python 3",
   "language": "python",
   "name": "python3"
  },
  "language_info": {
   "codemirror_mode": {
    "name": "ipython",
    "version": 3
   },
   "file_extension": ".py",
   "mimetype": "text/x-python",
   "name": "python",
   "nbconvert_exporter": "python",
   "pygments_lexer": "ipython3",
   "version": "3.7.3"
  }
 },
 "nbformat": 4,
 "nbformat_minor": 2
}
