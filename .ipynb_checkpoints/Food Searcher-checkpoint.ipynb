{
 "cells": [
  {
   "cell_type": "code",
   "execution_count": 41,
   "metadata": {},
   "outputs": [
    {
     "data": {
      "text/plain": [
       "{'error': {'code': 'VALIDATION_ERROR',\n",
       "  'description': 'Authorization is a required parameter.',\n",
       "  'field': 'Authorization',\n",
       "  'instance': None}}"
      ]
     },
     "execution_count": 41,
     "metadata": {},
     "output_type": "execute_result"
    }
   ],
   "source": [
    "import requests\n",
    "import json\n",
    "#url=\"https://maps.googleapis.com/maps/api/staticmap?center=Brooklyn+Bridge,New+York,NY&zoom=13&size=600x300&maptype=roadmap&markers=color:blue%7Clabel:S%7C40.702147,-74.015794&markers=color:green%7Clabel:G%7C40.711614,-74.012318&markers=color:red%7Clabel:C%7C40.718217,-73.998284&\"\n",
    "#resp=requests.get(url)\n",
    "#resp.text\n",
    "key=\"gxy7IYotnmfdd1SrvXfy1hfG5z4HfU0pGbbVPclKWAy07uqNviLGHrnzp0J_Nt1hJ_vQd4AnIX3LQzh1SV9vybXQpR_MpvhhZTIUrx8b6K0Qp4yfU0wrPDQE_wDXXXYx\"\n",
    "#def yelp(food):\n",
    "user_id=\"lUrLPc8-KXBjLODVZRvkRQ\"\n",
    "url='https://api.yelp.com/v3/autocomplete?text=del&latitude=37.786882&longitude=-122.399972'\n",
    "#print(url)\n",
    "data={'Authorization': 'lUrLPc8-KXBjLODVZRvkRQ'}\n",
    "response = requests.get(url,params=\"data\")\n",
    "#return(response.json())\n",
    "#user_text=input(\"\")\n",
    "#food = { 'term' : user_text,'latitude': 43.03821555,'longitude': -76.1333456417294,'radius': 40000}\n",
    "#yelp(food)\n",
    "response.json()"
   ]
  },
  {
   "cell_type": "code",
   "execution_count": 38,
   "metadata": {},
   "outputs": [
    {
     "name": "stdout",
     "output_type": "stream",
     "text": [
      "Querying https://api.yelp.com/v3/businesses/search ...\n"
     ]
    },
    {
     "data": {
      "text/html": [
       "<div>\n",
       "<style scoped>\n",
       "    .dataframe tbody tr th:only-of-type {\n",
       "        vertical-align: middle;\n",
       "    }\n",
       "\n",
       "    .dataframe tbody tr th {\n",
       "        vertical-align: top;\n",
       "    }\n",
       "\n",
       "    .dataframe thead th {\n",
       "        text-align: right;\n",
       "    }\n",
       "</style>\n",
       "<table border=\"1\" class=\"dataframe\">\n",
       "  <thead>\n",
       "    <tr style=\"text-align: right;\">\n",
       "      <th></th>\n",
       "      <th>Name</th>\n",
       "    </tr>\n",
       "  </thead>\n",
       "  <tbody>\n",
       "    <tr>\n",
       "      <td>0</td>\n",
       "      <td>Hot Eastern</td>\n",
       "    </tr>\n",
       "    <tr>\n",
       "      <td>1</td>\n",
       "      <td>Clay Pot Cafe</td>\n",
       "    </tr>\n",
       "    <tr>\n",
       "      <td>2</td>\n",
       "      <td>Shun's Kitchen</td>\n",
       "    </tr>\n",
       "  </tbody>\n",
       "</table>\n",
       "</div>"
      ],
      "text/plain": [
       "             Name\n",
       "0     Hot Eastern\n",
       "1   Clay Pot Cafe\n",
       "2  Shun's Kitchen"
      ]
     },
     "execution_count": 38,
     "metadata": {},
     "output_type": "execute_result"
    }
   ],
   "source": [
    "import json\n",
    "import pandas as pd\n",
    "import requests\n",
    "\n",
    "API_KEY= 'gxy7IYotnmfdd1SrvXfy1hfG5z4HfU0pGbbVPclKWAy07uqNviLGHrnzp0J_Nt1hJ_vQd4AnIX3LQzh1SV9vybXQpR_MpvhhZTIUrx8b6K0Qp4yfU0wrPDQE_wDXXXYx'\n",
    "\n",
    "API_HOST = 'https://api.yelp.com'\n",
    "SEARCH_PATH = '/v3/businesses/search'\n",
    "BUSINESS_PATH = '/v3/businesses/'  \n",
    "\n",
    "\n",
    "def request(host, path, api_key, url_params=None):\n",
    "    url_params = url_params or {}\n",
    "    url = '{0}{1}'.format(host, quote(path.encode('utf8')))\n",
    "    headers = {\n",
    "        'Authorization': 'Bearer %s' % api_key,\n",
    "    }\n",
    "\n",
    "    print(u'Querying {0} ...'.format(url))\n",
    "\n",
    "    response = requests.request('GET', url, headers=headers, params=url_params)\n",
    "\n",
    "    return response.json()\n",
    "\n",
    "\n",
    "def search(api_key, term, location):\n",
    "\n",
    "    url_params = {\n",
    "        'term': term.replace(' ', '+'),\n",
    "        'location': location.replace(' ', '+'),\n",
    "        'limit': SEARCH_LIMIT\n",
    "    }\n",
    "    return request(API_HOST, SEARCH_PATH, api_key, url_params=url_params)\n",
    "\n",
    "get_type='chinese'\n",
    "get_location='boston'\n",
    "restaurants=search(API_KEY,get_type,get_location)\n",
    "\n",
    "\n",
    "name=[]\n",
    "for num in restaurants['businesses']:\n",
    "    name.append(num['name'])\n",
    "pd.Series( data = name)\n",
    "\n",
    "series_dict = { 'Name':  name}  \n",
    "pd.DataFrame(series_dict)"
   ]
  },
  {
   "cell_type": "code",
   "execution_count": null,
   "metadata": {},
   "outputs": [],
   "source": []
  },
  {
   "cell_type": "code",
   "execution_count": null,
   "metadata": {},
   "outputs": [],
   "source": []
  }
 ],
 "metadata": {
  "kernelspec": {
   "display_name": "Python 3",
   "language": "python",
   "name": "python3"
  },
  "language_info": {
   "codemirror_mode": {
    "name": "ipython",
    "version": 3
   },
   "file_extension": ".py",
   "mimetype": "text/x-python",
   "name": "python",
   "nbconvert_exporter": "python",
   "pygments_lexer": "ipython3",
   "version": "3.7.3"
  }
 },
 "nbformat": 4,
 "nbformat_minor": 2
}
